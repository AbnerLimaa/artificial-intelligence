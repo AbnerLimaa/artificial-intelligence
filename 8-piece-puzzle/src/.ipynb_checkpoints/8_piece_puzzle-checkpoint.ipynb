{
 "cells": [
  {
   "cell_type": "code",
   "execution_count": 108,
   "metadata": {},
   "outputs": [],
   "source": [
    "import copy\n",
    "from math import fabs\n",
    "\n",
    "class ProblemState:\n",
    "    \n",
    "    __visited_states = []\n",
    "    \n",
    "    def __init__(self, parent, state):\n",
    "        print(state)\n",
    "        self.parent = parent\n",
    "        self.state = state\n",
    "        self.childs = []\n",
    "    \n",
    "    def __equal_states(first_state, second_state):\n",
    "        for i in range(3):\n",
    "            for j in range(3):\n",
    "                if first_state[i][j] != second_state[i][j]:\n",
    "                    return False\n",
    "        return True\n",
    "    \n",
    "    def __has_visited(some_state):\n",
    "        for state in ProblemState.__visited_states:\n",
    "            if ProblemState.__equal_states(state, some_state):\n",
    "                return True\n",
    "        return False\n",
    "        \n",
    "    def __are_neighbors(self, position_1, position_2):\n",
    "        condition_1 = position_1[0] == position_2[0] and fabs(position_1[1] - position_2[1]) == 1\n",
    "        condition_2 = position_1[1] == position_2[1] and fabs(position_1[0] - position_2[0]) == 1\n",
    "        return condition_1 or condition_2\n",
    "        \n",
    "    def __find_zero_position(self):\n",
    "        i = 0\n",
    "        j = 0\n",
    "        zero_position = (i, j)\n",
    "        for line in self.state:\n",
    "            for element in line:\n",
    "                if element == 0:\n",
    "                    zero_position = (i, j)\n",
    "                j += 1\n",
    "            j = 0\n",
    "            i += 1\n",
    "        return zero_position\n",
    "        \n",
    "    def is_solution(self):\n",
    "        i = 0\n",
    "        j = 0\n",
    "        counter = 1\n",
    "        for line in self.state:\n",
    "            for element in line:\n",
    "                if (i != 2 or j != 2) and element != counter:\n",
    "                    return False\n",
    "                j += 1\n",
    "                counter += 1\n",
    "            j = 0\n",
    "            i += 1\n",
    "        return True  \n",
    "\n",
    "    def __next_state(self, position_1, position_2):\n",
    "        next_state = copy.deepcopy(self.state)\n",
    "        value_1 = next_state[position_1[0]][position_1[1]]\n",
    "        value_2 = next_state[position_2[0]][position_2[1]]\n",
    "        next_state[position_1[0]][position_1[1]] = value_2\n",
    "        next_state[position_2[0]][position_2[1]] = value_1\n",
    "        return next_state\n",
    "\n",
    "    def generate_childs(self):\n",
    "        if self.is_solution() == False:\n",
    "            zero_position = self.__find_zero_position()\n",
    "            for i in range(3):\n",
    "                for j in range(3):\n",
    "                    if self.__are_neighbors(zero_position, (i, j)):\n",
    "                        next_state = self.__next_state(zero_position, (i, j))\n",
    "                        if ProblemState.__has_visited(next_state) == False:\n",
    "                            self.childs.append(ProblemState(self, next_state))\n",
    "                            ProblemState.__visited_states.append(next_state)"
   ]
  },
  {
   "cell_type": "code",
   "execution_count": 109,
   "metadata": {},
   "outputs": [],
   "source": [
    "class Problem:\n",
    "    \n",
    "    def __init__(self, initial_config):\n",
    "        self.root_state = ProblemState(None, initial_config)\n",
    "        self.root_state.generate_childs()\n",
    "        "
   ]
  },
  {
   "cell_type": "code",
   "execution_count": 110,
   "metadata": {},
   "outputs": [
    {
     "name": "stdout",
     "output_type": "stream",
     "text": [
      "[[1, 2, 0], [4, 5, 3], [7, 8, 6]]\n",
      "[[1, 0, 2], [4, 5, 3], [7, 8, 6]]\n",
      "[[1, 2, 3], [4, 5, 0], [7, 8, 6]]\n"
     ]
    }
   ],
   "source": [
    "initial_config = [[1, 2, 0], [4, 5, 3], [7, 8, 6]]\n",
    "problem = Problem(initial_config)"
   ]
  },
  {
   "cell_type": "code",
   "execution_count": null,
   "metadata": {},
   "outputs": [],
   "source": []
  }
 ],
 "metadata": {
  "kernelspec": {
   "display_name": "Python 3",
   "language": "python",
   "name": "python3"
  },
  "language_info": {
   "codemirror_mode": {
    "name": "ipython",
    "version": 3
   },
   "file_extension": ".py",
   "mimetype": "text/x-python",
   "name": "python",
   "nbconvert_exporter": "python",
   "pygments_lexer": "ipython3",
   "version": "3.9.1"
  }
 },
 "nbformat": 4,
 "nbformat_minor": 4
}
