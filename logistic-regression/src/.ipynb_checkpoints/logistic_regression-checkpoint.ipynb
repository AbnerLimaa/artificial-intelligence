{
 "cells": [
  {
   "cell_type": "code",
   "execution_count": 173,
   "metadata": {},
   "outputs": [],
   "source": [
    "import numpy\n",
    "import math\n",
    "\n",
    "class LogisticRegression:\n",
    "    \n",
    "    def __init__(self, n, epochs, alpha):\n",
    "        self.__w = numpy.full((1, n), 1, dtype=float)\n",
    "        self.__n = n\n",
    "        self.__epochs = epochs\n",
    "        self.__alpha = alpha\n",
    "        \n",
    "    def __h(self, x_i):\n",
    "        w_T = numpy.transpose(self.__w)\n",
    "        s = numpy.matmul(x_i, w_T)\n",
    "        return 1 / (1 + numpy.exp(-1 * s[0]))\n",
    "        \n",
    "    def train_model(self, x_train, y_train, m):\n",
    "        for e in range(self.__epochs):\n",
    "            grad = numpy.zeros(self.__n, dtype=float)\n",
    "            for i in range(m):\n",
    "                x_i = x_train[i]\n",
    "                y_i = y_train[i][0]\n",
    "                h_i = self.__h(x_i)\n",
    "                error = y_i - h_i\n",
    "                grad += (error * h_i * (1 - h_i) * x_i)\n",
    "            self.__w += (self.__alpha * grad)\n",
    "            \n",
    "    def test_model(self, x_test, y_test, m):\n",
    "        match = 0\n",
    "        for i in range(m):\n",
    "            x_i = x_test[i]\n",
    "            y_i = y_test[i]\n",
    "            result = self.decide(x_i)\n",
    "            if result == y_i:\n",
    "                match += 1\n",
    "        return match / m\n",
    "                \n",
    "    def decide(self, x):\n",
    "        h = self.__h(x)\n",
    "        if h > 0.5:\n",
    "            return 1\n",
    "        else:\n",
    "            return 0"
   ]
  },
  {
   "cell_type": "code",
   "execution_count": 176,
   "metadata": {},
   "outputs": [
    {
     "name": "stdout",
     "output_type": "stream",
     "text": [
      "rate: 0.8596491228070176\n"
     ]
    }
   ],
   "source": [
    "import pandas\n",
    "import numpy\n",
    "from sklearn.model_selection import train_test_split\n",
    "\n",
    "dataframe = pandas.read_csv('data.csv').dropna(how='all', axis='columns')\n",
    "\n",
    "# x está usando as colunas 'smoothness_mean', 'compactness_mean', 'concavity_mean', 'concave points_mean', 'symmetry_mean', 'fractal_dimension_mean'\n",
    "# pois elas possuem dados de mesma ordem de grandeza\n",
    "# y está usando a coluna 'diagnosis' para treinar o modelo de classificação\n",
    "x = dataframe.drop(columns=['id', 'diagnosis',\n",
    "                    'radius_mean', 'texture_mean', 'perimeter_mean', 'area_mean',\n",
    "                    'radius_se', 'texture_se', 'perimeter_se', 'area_se', 'smoothness_se', 'compactness_se', 'concavity_se', 'concave points_se', 'symmetry_se', 'fractal_dimension_se',\n",
    "                    'radius_worst', 'texture_worst', 'perimeter_worst', 'area_worst', 'smoothness_worst', 'compactness_worst', 'concavity_worst', 'concave points_worst', 'symmetry_worst', 'fractal_dimension_worst'])\n",
    "y = dataframe.drop(columns=['id',\n",
    "                    'radius_mean', 'texture_mean', 'perimeter_mean', 'area_mean', 'smoothness_mean', 'compactness_mean', 'concavity_mean', 'concave points_mean', 'symmetry_mean', 'fractal_dimension_mean',\n",
    "                    'radius_se', 'texture_se', 'perimeter_se', 'area_se', 'smoothness_se', 'compactness_se', 'concavity_se', 'concave points_se', 'symmetry_se', 'fractal_dimension_se',\n",
    "                    'radius_worst', 'texture_worst', 'perimeter_worst', 'area_worst', 'smoothness_worst', 'compactness_worst', 'concavity_worst', 'concave points_worst', 'symmetry_worst', 'fractal_dimension_worst'])\n",
    "y = y.replace('B', 0).replace('M', 1)\n",
    "\n",
    "x_train, x_test, y_train, y_test = train_test_split(x, y, test_size=0.30, random_state=42)\n",
    "x_train = x_train.to_numpy()\n",
    "x_test = x_test.to_numpy()\n",
    "y_train = y_train.to_numpy()\n",
    "y_test = y_test.to_numpy()\n",
    "\n",
    "m_train = len(x_train)\n",
    "m_test = len(x_test)\n",
    "n = len(x_train[0])\n",
    "\n",
    "model = LogisticRegression(n, 100, 0.03)\n",
    "model.train_model(x_train, y_train, m_train)\n",
    "rate = model.test_model(x_test, y_test, m_test)\n",
    "print(\"rate:\", rate)"
   ]
  },
  {
   "cell_type": "code",
   "execution_count": null,
   "metadata": {},
   "outputs": [],
   "source": []
  }
 ],
 "metadata": {
  "kernelspec": {
   "display_name": "Python 3",
   "language": "python",
   "name": "python3"
  },
  "language_info": {
   "codemirror_mode": {
    "name": "ipython",
    "version": 3
   },
   "file_extension": ".py",
   "mimetype": "text/x-python",
   "name": "python",
   "nbconvert_exporter": "python",
   "pygments_lexer": "ipython3",
   "version": "3.9.1"
  }
 },
 "nbformat": 4,
 "nbformat_minor": 4
}
